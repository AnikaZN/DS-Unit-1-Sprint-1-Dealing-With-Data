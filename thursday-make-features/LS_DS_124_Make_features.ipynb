{
  "nbformat": 4,
  "nbformat_minor": 0,
  "metadata": {
    "colab": {
      "name": "LS_DS_124_Make_features.ipynb",
      "version": "0.3.2",
      "provenance": [],
      "collapsed_sections": [],
      "include_colab_link": true
    },
    "language_info": {
      "codemirror_mode": {
        "name": "ipython",
        "version": 3
      },
      "file_extension": ".py",
      "mimetype": "text/x-python",
      "name": "python",
      "nbconvert_exporter": "python",
      "pygments_lexer": "ipython3",
      "version": "3.7.1"
    },
    "kernelspec": {
      "display_name": "Python 3",
      "language": "python",
      "name": "python3"
    }
  },
  "cells": [
    {
      "cell_type": "markdown",
      "metadata": {
        "id": "view-in-github",
        "colab_type": "text"
      },
      "source": [
        "<a href=\"https://colab.research.google.com/github/AnikaZN/DS-Unit-1-Sprint-1-Dealing-With-Data/blob/master/thursday-make-features/LS_DS_124_Make_features.ipynb\" target=\"_parent\"><img src=\"https://colab.research.google.com/assets/colab-badge.svg\" alt=\"Open In Colab\"/></a>"
      ]
    },
    {
      "cell_type": "markdown",
      "metadata": {
        "colab_type": "text",
        "id": "qacqiXogluN_"
      },
      "source": [
        "_Lambda School Data Science_\n",
        "\n",
        "# Make features\n",
        "\n",
        "Objectives\n",
        "-  understand the purpose of feature engineering\n",
        "-  work with strings in pandas\n",
        "- work with dates and times in pandas\n",
        "\n",
        "Links\n",
        "- [Feature Engineering](https://en.wikipedia.org/wiki/Feature_engineering)\n",
        "- Python Data Science Handbook\n",
        "  - [Chapter 3.10](https://jakevdp.github.io/PythonDataScienceHandbook/03.10-working-with-strings.html), Vectorized String Operations\n",
        "  - [Chapter 3.11](https://jakevdp.github.io/PythonDataScienceHandbook/03.11-working-with-time-series.html), Working with Time Series"
      ]
    },
    {
      "cell_type": "markdown",
      "metadata": {
        "colab_type": "text",
        "id": "iSGiSktAoWIx"
      },
      "source": [
        "## Get LendingClub data\n",
        "\n",
        "[Source](https://www.lendingclub.com/info/download-data.action)"
      ]
    },
    {
      "cell_type": "code",
      "metadata": {
        "colab_type": "code",
        "id": "2ugxlWXimoHn",
        "colab": {}
      },
      "source": [
        "!wget https://resources.lendingclub.com/LoanStats_2018Q4.csv.zip"
      ],
      "execution_count": 0,
      "outputs": []
    },
    {
      "cell_type": "code",
      "metadata": {
        "colab_type": "code",
        "id": "-4sk6qPgmpmN",
        "colab": {}
      },
      "source": [
        "!unzip LoanStats_2018Q4.csv.zip"
      ],
      "execution_count": 0,
      "outputs": []
    },
    {
      "cell_type": "code",
      "metadata": {
        "colab_type": "code",
        "id": "seh5oNE1nD0X",
        "colab": {}
      },
      "source": [
        "!head LoanStats_2018Q4.csv"
      ],
      "execution_count": 0,
      "outputs": []
    },
    {
      "cell_type": "markdown",
      "metadata": {
        "colab_type": "text",
        "id": "3nAIRCZdofrY"
      },
      "source": [
        "## Load LendingClub data\n",
        "\n",
        "pandas documentation\n",
        "- [`read_csv`](https://pandas.pydata.org/pandas-docs/stable/generated/pandas.read_csv.html)\n",
        "- [`options.display`](https://pandas.pydata.org/pandas-docs/stable/options.html#available-options)"
      ]
    },
    {
      "cell_type": "code",
      "metadata": {
        "colab_type": "code",
        "id": "3-8Vn3y6ooBC",
        "colab": {}
      },
      "source": [
        "import pandas as pd"
      ],
      "execution_count": 0,
      "outputs": []
    },
    {
      "cell_type": "code",
      "metadata": {
        "id": "kzbJN5ah0W1U",
        "colab_type": "code",
        "colab": {}
      },
      "source": [
        "df = pd.read_csv(sep=',', filepath_or_buffer='https://resources.lendingclub.com/LoanStats_2018Q4.csv.zip', skiprows=1, skipfooter=2)\n",
        "df.head()"
      ],
      "execution_count": 0,
      "outputs": []
    },
    {
      "cell_type": "code",
      "metadata": {
        "id": "pmPcW6Q_0Ych",
        "colab_type": "code",
        "colab": {}
      },
      "source": [
        "df.tail()"
      ],
      "execution_count": 0,
      "outputs": []
    },
    {
      "cell_type": "code",
      "metadata": {
        "id": "la8b4e9n0Z1S",
        "colab_type": "code",
        "colab": {}
      },
      "source": [
        "df.shape"
      ],
      "execution_count": 0,
      "outputs": []
    },
    {
      "cell_type": "code",
      "metadata": {
        "id": "lJpPUmdc0avL",
        "colab_type": "code",
        "colab": {}
      },
      "source": [
        "df.describe()"
      ],
      "execution_count": 0,
      "outputs": []
    },
    {
      "cell_type": "code",
      "metadata": {
        "id": "58dMT6cR0ccM",
        "colab_type": "code",
        "colab": {}
      },
      "source": [
        "df.info()"
      ],
      "execution_count": 0,
      "outputs": []
    },
    {
      "cell_type": "code",
      "metadata": {
        "id": "iwIshzmI0dRH",
        "colab_type": "code",
        "colab": {}
      },
      "source": [
        "df.dtypes"
      ],
      "execution_count": 0,
      "outputs": []
    },
    {
      "cell_type": "code",
      "metadata": {
        "id": "J_R4-Ab30exe",
        "colab_type": "code",
        "colab": {}
      },
      "source": [
        "df.dtypes.value_counts()"
      ],
      "execution_count": 0,
      "outputs": []
    },
    {
      "cell_type": "code",
      "metadata": {
        "id": "2eZ4p4yc0fkv",
        "colab_type": "code",
        "colab": {}
      },
      "source": [
        "df.shape"
      ],
      "execution_count": 0,
      "outputs": []
    },
    {
      "cell_type": "code",
      "metadata": {
        "id": "PZ3VTTjG0gWT",
        "colab_type": "code",
        "colab": {}
      },
      "source": [
        "df.isnull().sum()"
      ],
      "execution_count": 0,
      "outputs": []
    },
    {
      "cell_type": "code",
      "metadata": {
        "id": "K-5G_i970jh6",
        "colab_type": "code",
        "colab": {}
      },
      "source": [
        "df.isnull().sum().sort_values(ascending=False)"
      ],
      "execution_count": 0,
      "outputs": []
    },
    {
      "cell_type": "code",
      "metadata": {
        "id": "Ii8Asnsm0k8K",
        "colab_type": "code",
        "colab": {}
      },
      "source": [
        "df.isnull().sum().sort_values(ascending=False)/df.shape[0]"
      ],
      "execution_count": 0,
      "outputs": []
    },
    {
      "cell_type": "code",
      "metadata": {
        "id": "-9A3XRwT0maM",
        "colab_type": "code",
        "colab": {}
      },
      "source": [
        "#alternative\n",
        "df.isnull().sum().sort_values(ascending=False)/len(df)"
      ],
      "execution_count": 0,
      "outputs": []
    },
    {
      "cell_type": "markdown",
      "metadata": {
        "colab_type": "text",
        "id": "1b5_hMTio2Ly"
      },
      "source": [
        "## Work with strings"
      ]
    },
    {
      "cell_type": "markdown",
      "metadata": {
        "id": "acSx0DlKDQdw",
        "colab_type": "text"
      },
      "source": [
        "For machine learning, we usually want to replace strings with numbers.\n",
        "\n",
        "We can get info about which columns have a datatype of \"object\" (strings)"
      ]
    },
    {
      "cell_type": "code",
      "metadata": {
        "colab_type": "code",
        "id": "WOL7QPVNo3F4",
        "colab": {}
      },
      "source": [
        "df.dtypes.value_counts()"
      ],
      "execution_count": 0,
      "outputs": []
    },
    {
      "cell_type": "code",
      "metadata": {
        "id": "VhXIMS5S0pDs",
        "colab_type": "code",
        "colab": {}
      },
      "source": [
        "df['int_rate'].head()\n",
        "\n",
        "#percentage signs read like letters to pandas\n",
        "#and mean that it will read as a string"
      ],
      "execution_count": 0,
      "outputs": []
    },
    {
      "cell_type": "markdown",
      "metadata": {
        "id": "6NB3sQy3DQdz",
        "colab_type": "text"
      },
      "source": [
        "### Convert `int_rate`\n",
        "\n",
        "Define a function to remove percent signs from strings and convert to floats"
      ]
    },
    {
      "cell_type": "code",
      "metadata": {
        "id": "HmRUGAFADQd0",
        "colab_type": "code",
        "colab": {}
      },
      "source": [
        "def strip_percent(x_str):\n",
        "  return float(x_str.strip('%')) #alternative x_str[-1]"
      ],
      "execution_count": 0,
      "outputs": []
    },
    {
      "cell_type": "markdown",
      "metadata": {
        "id": "OxdETfY_DQd1",
        "colab_type": "text"
      },
      "source": [
        "Apply the function to the `int_rate` column"
      ]
    },
    {
      "cell_type": "code",
      "metadata": {
        "id": "VFqbGK7rDQd2",
        "colab_type": "code",
        "colab": {}
      },
      "source": [
        "df['int_rate'] = df['int_rate'].apply(strip_percent)\n",
        "df['int_rate'].head()"
      ],
      "execution_count": 0,
      "outputs": []
    },
    {
      "cell_type": "markdown",
      "metadata": {
        "id": "OK3v0JNiDQd4",
        "colab_type": "text"
      },
      "source": [
        "### Clean `emp_title`\n",
        "\n",
        "Look at top 20 titles"
      ]
    },
    {
      "cell_type": "code",
      "metadata": {
        "id": "kauFp7F3DQd5",
        "colab_type": "code",
        "colab": {}
      },
      "source": [
        "df['emp_title'].head(n=20)"
      ],
      "execution_count": 0,
      "outputs": []
    },
    {
      "cell_type": "markdown",
      "metadata": {
        "id": "yUmXtnaVDQd7",
        "colab_type": "text"
      },
      "source": [
        "How often is `emp_title` null?"
      ]
    },
    {
      "cell_type": "code",
      "metadata": {
        "id": "MWQ6o0WtDQd8",
        "colab_type": "code",
        "colab": {}
      },
      "source": [
        "df['emp_title'].value_counts(dropna=False).head(20)"
      ],
      "execution_count": 0,
      "outputs": []
    },
    {
      "cell_type": "code",
      "metadata": {
        "id": "fDg9GC8G0wwr",
        "colab_type": "code",
        "colab": {}
      },
      "source": [
        "df['emp_title'].isnull().sum()"
      ],
      "execution_count": 0,
      "outputs": []
    },
    {
      "cell_type": "markdown",
      "metadata": {
        "id": "QX7n_UENDQd-",
        "colab_type": "text"
      },
      "source": [
        "Clean the title and handle missing values"
      ]
    },
    {
      "cell_type": "code",
      "metadata": {
        "id": "mXsL8ozUDQd_",
        "colab_type": "code",
        "colab": {}
      },
      "source": [
        "#normalizing\n",
        "\n",
        "df['emp_title'].str.lower()"
      ],
      "execution_count": 0,
      "outputs": []
    },
    {
      "cell_type": "code",
      "metadata": {
        "id": "c7LwtzFV0yBr",
        "colab_type": "code",
        "colab": {}
      },
      "source": [
        "import numpy as np"
      ],
      "execution_count": 0,
      "outputs": []
    },
    {
      "cell_type": "code",
      "metadata": {
        "id": "0HWYv9uE00u7",
        "colab_type": "code",
        "colab": {}
      },
      "source": [
        "def clean_title(title):\n",
        "    if isinstance(title, str): #returns a boolean, TRUE for string and FALSE for not\n",
        "      return title.strip().lower()\n",
        "    else:\n",
        "        return 'unknown'"
      ],
      "execution_count": 0,
      "outputs": []
    },
    {
      "cell_type": "code",
      "metadata": {
        "id": "jZTl6Ih8015s",
        "colab_type": "code",
        "colab": {}
      },
      "source": [
        "df['emp_title'] = df['emp_title'].apply(clean_title)\n",
        "df['emp_title'].head()"
      ],
      "execution_count": 0,
      "outputs": []
    },
    {
      "cell_type": "code",
      "metadata": {
        "id": "YSo1M40104ZI",
        "colab_type": "code",
        "colab": {}
      },
      "source": [
        "df['emp_title'].value_counts(dropna=False).head(20)"
      ],
      "execution_count": 0,
      "outputs": []
    },
    {
      "cell_type": "markdown",
      "metadata": {
        "id": "4-P_GOd0DQeC",
        "colab_type": "text"
      },
      "source": [
        "### Create `emp_title_manager`\n",
        "\n",
        "pandas documentation: [`str.contains`](https://pandas.pydata.org/pandas-docs/stable/generated/pandas.Series.str.contains.html)"
      ]
    },
    {
      "cell_type": "code",
      "metadata": {
        "id": "HZUvpF4BDQeD",
        "colab_type": "code",
        "colab": {}
      },
      "source": [
        "df['emp_title'].str.contains('manager')"
      ],
      "execution_count": 0,
      "outputs": []
    },
    {
      "cell_type": "code",
      "metadata": {
        "id": "B-kyzbEC07i1",
        "colab_type": "code",
        "colab": {}
      },
      "source": [
        "df['emp_title_manager'] = df['emp_title'].str.contains('manager')\n",
        "df['emp_title_manager'].sample(10)"
      ],
      "execution_count": 0,
      "outputs": []
    },
    {
      "cell_type": "code",
      "metadata": {
        "id": "diVzdrXt09Q9",
        "colab_type": "code",
        "colab": {}
      },
      "source": [
        "df.to_csv('tmp.csv', index=False)\n",
        "\n",
        "#\"checkpoint\" - create a new Save File with all the work you've already done"
      ],
      "execution_count": 0,
      "outputs": []
    },
    {
      "cell_type": "code",
      "metadata": {
        "id": "gOXie5dr1MOe",
        "colab_type": "code",
        "colab": {}
      },
      "source": [
        "df['emp_title'].nunique()"
      ],
      "execution_count": 0,
      "outputs": []
    },
    {
      "cell_type": "code",
      "metadata": {
        "id": "WfsRnoDW1Ndy",
        "colab_type": "code",
        "colab": {}
      },
      "source": [
        "idx_manager = df['emp_title_manager'] == True\n",
        "df_managers = df[idx_manager]\n",
        "df_managers.shape"
      ],
      "execution_count": 0,
      "outputs": []
    },
    {
      "cell_type": "code",
      "metadata": {
        "id": "xHhWWwjr1Okt",
        "colab_type": "code",
        "colab": {}
      },
      "source": [
        "idx_nonmanager = df['emp_title_manager'] == False\n",
        "df_nonmanagers = df[idx_nonmanager]\n",
        "df_nonmanagers.shape"
      ],
      "execution_count": 0,
      "outputs": []
    },
    {
      "cell_type": "code",
      "metadata": {
        "id": "GDQDDJ7b1P41",
        "colab_type": "code",
        "colab": {}
      },
      "source": [
        "df_2 = pd.read_csv('tmp.csv')\n",
        "df_2.head()"
      ],
      "execution_count": 0,
      "outputs": []
    },
    {
      "cell_type": "code",
      "metadata": {
        "id": "pNV1yzyY1Q-k",
        "colab_type": "code",
        "colab": {}
      },
      "source": [
        "del df_2"
      ],
      "execution_count": 0,
      "outputs": []
    },
    {
      "cell_type": "code",
      "metadata": {
        "id": "8bdiCVLc1R4I",
        "colab_type": "code",
        "colab": {}
      },
      "source": [
        "del df"
      ],
      "execution_count": 0,
      "outputs": []
    },
    {
      "cell_type": "code",
      "metadata": {
        "id": "juIcnTxl1TFx",
        "colab_type": "code",
        "colab": {}
      },
      "source": [
        "print(df_managers['int_rate'].mean(), df_nonmanagers['int_rate'].mean())"
      ],
      "execution_count": 0,
      "outputs": []
    },
    {
      "cell_type": "code",
      "metadata": {
        "id": "KFgsOOSp1UBy",
        "colab_type": "code",
        "colab": {}
      },
      "source": [
        "print(df_managers['int_rate'].std(), df_nonmanagers['int_rate'].std())"
      ],
      "execution_count": 0,
      "outputs": []
    },
    {
      "cell_type": "code",
      "metadata": {
        "id": "Y9JjPLfD1U3g",
        "colab_type": "code",
        "colab": {}
      },
      "source": [
        "%matplotlib inline"
      ],
      "execution_count": 0,
      "outputs": []
    },
    {
      "cell_type": "code",
      "metadata": {
        "id": "D_dZ6KMR1Vv3",
        "colab_type": "code",
        "colab": {}
      },
      "source": [
        "df_managers['int_rate'].hist()"
      ],
      "execution_count": 0,
      "outputs": []
    },
    {
      "cell_type": "code",
      "metadata": {
        "id": "PN8p8RQE1XAH",
        "colab_type": "code",
        "colab": {}
      },
      "source": [
        "df_nonmanagers['int_rate'].hist()"
      ],
      "execution_count": 0,
      "outputs": []
    },
    {
      "cell_type": "markdown",
      "metadata": {
        "colab_type": "text",
        "id": "s8BcCY6so3by"
      },
      "source": [
        "## Work with dates"
      ]
    },
    {
      "cell_type": "markdown",
      "metadata": {
        "id": "CCpZwIG4DQeF",
        "colab_type": "text"
      },
      "source": [
        "pandas documentation\n",
        "- [to_datetime](https://pandas.pydata.org/pandas-docs/stable/generated/pandas.to_datetime.html)\n",
        "- [Time/Date Components](https://pandas.pydata.org/pandas-docs/stable/timeseries.html#time-date-components) \"You can access these properties via the `.dt` accessor\""
      ]
    },
    {
      "cell_type": "code",
      "metadata": {
        "colab_type": "code",
        "id": "kNrKxOTeo4W3",
        "colab": {}
      },
      "source": [
        "for col_name in df_nonmanagers.columns:\n",
        "  if col_name.endswith('_d'):\n",
        "    print(col_name)"
      ],
      "execution_count": 0,
      "outputs": []
    },
    {
      "cell_type": "code",
      "metadata": {
        "id": "V3xZ1B0Q1ZYO",
        "colab_type": "code",
        "colab": {}
      },
      "source": [
        "df_nonmanagers['issue_d'].sample(10)"
      ],
      "execution_count": 0,
      "outputs": []
    },
    {
      "cell_type": "code",
      "metadata": {
        "id": "1h1ak4LQ1bLQ",
        "colab_type": "code",
        "colab": {}
      },
      "source": [
        "pd.to_datetime(df_nonmanagers['issue_d'])"
      ],
      "execution_count": 0,
      "outputs": []
    },
    {
      "cell_type": "code",
      "metadata": {
        "id": "EhpWp1z-1clw",
        "colab_type": "code",
        "colab": {}
      },
      "source": [
        "df_nonmanagers['issue_d'] = pd.to_datetime(df_nonmanagers['issue_d'])\n",
        "df_nonmanagers['issue_d'].head()"
      ],
      "execution_count": 0,
      "outputs": []
    },
    {
      "cell_type": "code",
      "metadata": {
        "id": "SBTf6vDU1do8",
        "colab_type": "code",
        "colab": {}
      },
      "source": [
        "df_nonmanagers['issue_year'] = df_nonmanagers['issue_d'].dt.year\n",
        "df_nonmanagers['issue_month'] = df_nonmanagers['issue_d'].dt.month\n",
        "df_nonmanagers[['issue_year', 'issue_month']].head()"
      ],
      "execution_count": 0,
      "outputs": []
    },
    {
      "cell_type": "markdown",
      "metadata": {
        "id": "a5umUFeDDQeH",
        "colab_type": "text"
      },
      "source": [
        "# ASSIGNMENT\n",
        "\n",
        "- Replicate the lesson code.\n",
        "\n",
        "- Convert the `term` column from string to integer.\n",
        "\n",
        "- Make a column named `loan_status_is_great`. It should contain the integer 1 if `loan_status` is \"Current\" or \"Fully Paid.\" Else it should contain the integer 0.\n",
        "\n",
        "- Make `last_pymnt_d_month` and `last_pymnt_d_year` columns."
      ]
    },
    {
      "cell_type": "code",
      "metadata": {
        "id": "_WbTa7pa1oOB",
        "colab_type": "code",
        "colab": {}
      },
      "source": [
        "print(df_nonmanagers.term)"
      ],
      "execution_count": 0,
      "outputs": []
    },
    {
      "cell_type": "code",
      "metadata": {
        "id": "dGFWVdL01ptn",
        "colab_type": "code",
        "colab": {}
      },
      "source": [
        "def strip_month(x_str):\n",
        "  return int(x_str.strip(' months'))"
      ],
      "execution_count": 0,
      "outputs": []
    },
    {
      "cell_type": "code",
      "metadata": {
        "id": "EvcJITAy1rLA",
        "colab_type": "code",
        "colab": {}
      },
      "source": [
        "df_nonmanagers['term'] = df_nonmanagers['term'].apply(strip_month)\n",
        "print(df_nonmanagers['term'])"
      ],
      "execution_count": 0,
      "outputs": []
    },
    {
      "cell_type": "code",
      "metadata": {
        "id": "wuPk5YNr1tBG",
        "colab_type": "code",
        "colab": {}
      },
      "source": [
        "print(df_nonmanagers.loan_status)"
      ],
      "execution_count": 0,
      "outputs": []
    },
    {
      "cell_type": "code",
      "metadata": {
        "id": "YxGcTrNv1uj5",
        "colab_type": "code",
        "colab": {}
      },
      "source": [
        "df_nonmanagers['loan_status_is_great'] = df_nonmanagers['loan_status'].str.contains('Current', 'Fully Paid')\n",
        "df_nonmanagers['loan_status_is_great'] = df_nonmanagers['loan_status_is_great'].astype(int)\n",
        "df_nonmanagers['loan_status_is_great'].sample(10)"
      ],
      "execution_count": 0,
      "outputs": []
    },
    {
      "cell_type": "code",
      "metadata": {
        "id": "xE8nPcKl1v9F",
        "colab_type": "code",
        "colab": {}
      },
      "source": [
        "print(df_nonmanagers['last_pymnt_d'])"
      ],
      "execution_count": 0,
      "outputs": []
    },
    {
      "cell_type": "code",
      "metadata": {
        "id": "0WH6y_TqPesY",
        "colab_type": "code",
        "colab": {}
      },
      "source": [
        "df_nonmanagers['last_pymnt_d'].nunique()"
      ],
      "execution_count": 0,
      "outputs": []
    },
    {
      "cell_type": "code",
      "metadata": {
        "id": "xISBETDCPkx8",
        "colab_type": "code",
        "colab": {}
      },
      "source": [
        "df_nonmanagers['last_pymnt_d'].isnull().sum()"
      ],
      "execution_count": 0,
      "outputs": []
    },
    {
      "cell_type": "code",
      "metadata": {
        "id": "u8hfwVxTPm8b",
        "colab_type": "code",
        "colab": {}
      },
      "source": [
        "df_nonmanagers['last_pymnt_d'] = df_nonmanagers['last_pymnt_d'].fillna(method='bfill')"
      ],
      "execution_count": 0,
      "outputs": []
    },
    {
      "cell_type": "code",
      "metadata": {
        "id": "49xD_lB3Poqq",
        "colab_type": "code",
        "colab": {}
      },
      "source": [
        "df_nonmanagers['last_pymnt_d'].isnull().sum()"
      ],
      "execution_count": 0,
      "outputs": []
    },
    {
      "cell_type": "code",
      "metadata": {
        "id": "By33d78UPq0n",
        "colab_type": "code",
        "colab": {}
      },
      "source": [
        "df_nonmanagers['last_pymnt_d'].sort_values(ascending=False)"
      ],
      "execution_count": 0,
      "outputs": []
    },
    {
      "cell_type": "code",
      "metadata": {
        "id": "hMyboWE_Pwf-",
        "colab_type": "code",
        "colab": {}
      },
      "source": [
        "df_nonmanagers['last_pymnt_d'].sample(10)\n",
        "\n",
        "#Oct-2018\n",
        "#Nov-2018\n",
        "#Dec-2018\n",
        "#Jan-2019\n",
        "#Feb-2019\n",
        "#Mar-2019\n",
        "#Apr-2019"
      ],
      "execution_count": 0,
      "outputs": []
    },
    {
      "cell_type": "code",
      "metadata": {
        "id": "LSzqpsS6PypV",
        "colab_type": "code",
        "colab": {}
      },
      "source": [
        "def split_one(x_str):\n",
        "  return str(x_str.strip('-2019'))\n",
        "\n",
        "def split_two(x_str):\n",
        "  return str(x_str.strip('-2018'))\n",
        "\n",
        "def split_three(x_str):\n",
        "  return str(x_str.strip('Oct-'))\n",
        "\n",
        "def split_four(x_str):\n",
        "  return str(x_str.strip('Nov-'))\n",
        "\n",
        "def split_five(x_str):\n",
        "  return str(x_str.strip('Dec-'))\n",
        "\n",
        "def split_six(x_str):\n",
        "  return str(x_str.strip('Jan-'))\n",
        "\n",
        "def split_seven(x_str):\n",
        "  return str(x_str.strip('Feb-'))\n",
        "\n",
        "def split_eight(x_str):\n",
        "  return str(x_str.strip('Mar-'))\n",
        "\n",
        "def split_nine(x_str):\n",
        "  return str(x_str.strip('Apr-'))"
      ],
      "execution_count": 0,
      "outputs": []
    },
    {
      "cell_type": "code",
      "metadata": {
        "id": "jNDoqwMDP2Hw",
        "colab_type": "code",
        "colab": {}
      },
      "source": [
        "df_nonmanagers['last_pymnt_d_month'] = df_nonmanagers['last_pymnt_d'].apply(split_one).apply(split_two)\n",
        "\n",
        "df_nonmanagers['last_pymnt_d_year'] = df_nonmanagers['last_pymnt_d'].apply(split_three).apply(split_four).apply(split_five).apply(split_six).apply(split_seven).apply(split_eight).apply(split_nine)"
      ],
      "execution_count": 0,
      "outputs": []
    },
    {
      "cell_type": "code",
      "metadata": {
        "id": "pHBwqbvaP30n",
        "colab_type": "code",
        "colab": {}
      },
      "source": [
        "print(df_nonmanagers['last_pymnt_d_month'])"
      ],
      "execution_count": 0,
      "outputs": []
    },
    {
      "cell_type": "code",
      "metadata": {
        "id": "W5DhbIkQP5qV",
        "colab_type": "code",
        "colab": {}
      },
      "source": [
        "print(df_nonmanagers['last_pymnt_d_year'])"
      ],
      "execution_count": 0,
      "outputs": []
    },
    {
      "cell_type": "markdown",
      "metadata": {
        "colab_type": "text",
        "id": "L8k0LiHmo5EU"
      },
      "source": [
        "# STRETCH OPTIONS\n",
        "\n",
        "You can do more with the LendingClub or Instacart datasets.\n",
        "\n",
        "LendingClub options:\n",
        "- There's one other column in the dataframe with percent signs. Remove them and convert to floats. You'll need to handle missing values.\n",
        "- Modify the `emp_title` column to replace titles with 'Other' if the title is not in the top 20. \n",
        "- Take initiatve and work on your own ideas!\n",
        "\n",
        "Instacart options:\n",
        "- Read [Instacart Market Basket Analysis, Winner's Interview: 2nd place, Kazuki Onodera](http://blog.kaggle.com/2017/09/21/instacart-market-basket-analysis-winners-interview-2nd-place-kazuki-onodera/), especially the **Feature Engineering** section. (Can you choose one feature from his bulleted lists, and try to engineer it with pandas code?)\n",
        "- Read and replicate parts of [Simple Exploration Notebook - Instacart](https://www.kaggle.com/sudalairajkumar/simple-exploration-notebook-instacart). (It's the Python Notebook with the most upvotes for this Kaggle competition.)\n",
        "- Take initiative and work on your own ideas!"
      ]
    },
    {
      "cell_type": "markdown",
      "metadata": {
        "colab_type": "text",
        "id": "0_7PXF7lpEXg"
      },
      "source": [
        "You can uncomment and run the cells below to re-download and extract the Instacart data"
      ]
    },
    {
      "cell_type": "code",
      "metadata": {
        "id": "5GbVj3FxDQeJ",
        "colab_type": "code",
        "colab": {}
      },
      "source": [
        "# !wget https://s3.amazonaws.com/instacart-datasets/instacart_online_grocery_shopping_2017_05_01.tar.gz"
      ],
      "execution_count": 0,
      "outputs": []
    },
    {
      "cell_type": "code",
      "metadata": {
        "id": "-KquesZjDQeL",
        "colab_type": "code",
        "colab": {}
      },
      "source": [
        "# !tar --gunzip --extract --verbose --file=instacart_online_grocery_shopping_2017_05_01.tar.gz"
      ],
      "execution_count": 0,
      "outputs": []
    },
    {
      "cell_type": "code",
      "metadata": {
        "id": "UvmnkAKADQeM",
        "colab_type": "code",
        "colab": {}
      },
      "source": [
        "# %cd instacart_2017_05_01"
      ],
      "execution_count": 0,
      "outputs": []
    }
  ]
}